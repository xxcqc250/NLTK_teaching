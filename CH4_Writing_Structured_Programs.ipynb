{
 "cells": [
  {
   "cell_type": "markdown",
   "metadata": {},
   "source": [
    "在這個chapter，主要focus在以下三點：<BR>\n",
    "1. 如何寫一個好的架構、可讀性高、且其他人可以簡單地使用你的程式碼<BR>\n",
    "2. python的loops、functions、assignment如何運作<BR>\n",
    "3. 如何比避開一些程式上撰寫的陷阱"
   ]
  },
  {
   "cell_type": "markdown",
   "metadata": {},
   "source": [
    "## 4.1   Back to the Basics\n",
    "### Assignment\n",
    "我們給 fi 一個值'boo'，並將 fi assign 給 bi，再將 f1 的value覆蓋，並不影響到 bi 的value"
   ]
  },
  {
   "cell_type": "code",
   "execution_count": 4,
   "metadata": {},
   "outputs": [
    {
     "name": "stdout",
     "output_type": "stream",
     "text": [
      "bi => boo\n"
     ]
    }
   ],
   "source": [
    "fi='boo'\n",
    "bi = fi\n",
    "fi='python'\n",
    "print(\"bi => \"+bi)"
   ]
  },
  {
   "cell_type": "markdown",
   "metadata": {},
   "source": [
    "但如果被 assign 的資料型態是list就不一樣了"
   ]
  },
  {
   "cell_type": "code",
   "execution_count": 7,
   "metadata": {},
   "outputs": [
    {
     "name": "stdout",
     "output_type": "stream",
     "text": [
      "bar =>  ['Monty', 'Bodkin']\n"
     ]
    }
   ],
   "source": [
    "foo = ['Monty', 'Python']\n",
    "bar = foo\n",
    "foo[1] = 'Bodkin'\n",
    "print(\"bar => \", bar)"
   ]
  },
  {
   "cell_type": "markdown",
   "metadata": {},
   "source": [
    "可以發現當foo的value被改變時，bar的value也一同被改變了，<BR>\n",
    "這是因為foo的value是一個記憶體位置，所以執行'bar = foo'時，bar是copy到foo的記憶體位置。\n",
    "<img src=\"https://i.imgur.com/kux2q1W.jpg\" width=\"600\" align=\"left\">"
   ]
  },
  {
   "cell_type": "markdown",
   "metadata": {},
   "source": [
    "## Equality"
   ]
  },
  {
   "cell_type": "markdown",
   "metadata": {
    "collapsed": true
   },
   "source": [
    "python提供兩種方式來比較兩者是否一樣。<BR>\n",
    "第一種為 '=='，比較兩者之間的value是否一樣。<BR>\n",
    "第二種為 'is'，比較兩者之間的value是否一樣以及是否為同一個object。"
   ]
  },
  {
   "cell_type": "code",
   "execution_count": 5,
   "metadata": {},
   "outputs": [
    {
     "name": "stdout",
     "output_type": "stream",
     "text": [
      "[['Python'], ['Python'], ['Python'], ['Python'], ['Python']]\n",
      "True\n",
      "False\n",
      "[3149790391752, 3149790391752, 3149790391752, 3149793101704, 3149790391752]\n"
     ]
    }
   ],
   "source": [
    "size = 5\n",
    "python = ['Python']    \n",
    "snake_nest = [python] * size\n",
    "snake_nest[3] = ['Python']\n",
    "print(snake_nest)\n",
    "print(snake_nest[0] == snake_nest[1] == snake_nest[2] == snake_nest[3] == snake_nest[4])\n",
    "print(snake_nest[0] is snake_nest[1] is snake_nest[2] is snake_nest[3] is snake_nest[4])\n",
    "print([id(snake) for snake in snake_nest])"
   ]
  },
  {
   "cell_type": "markdown",
   "metadata": {},
   "source": [
    "## Conditionals"
   ]
  },
  {
   "cell_type": "markdown",
   "metadata": {},
   "source": [
    "python的all()以及any()的function，可以被應用在任何的list來檢查是否所有的item或有任何的item符合條件"
   ]
  },
  {
   "cell_type": "code",
   "execution_count": 6,
   "metadata": {},
   "outputs": [
    {
     "name": "stdout",
     "output_type": "stream",
     "text": [
      "False\n",
      "True\n"
     ]
    }
   ],
   "source": [
    "sent = ['No', 'good', 'fish', 'goes', 'anywhere', 'without', 'a', 'porpoise', '.']\n",
    "print(all(len(w) > 4 for w in sent))\n",
    "print(any(len(w) > 4 for w in sent))"
   ]
  },
  {
   "cell_type": "markdown",
   "metadata": {},
   "source": [
    "# 4.2   Sequences"
   ]
  },
  {
   "cell_type": "markdown",
   "metadata": {},
   "source": [
    "## Operating on Sequence Types\n",
    "目前有很多種方法來迭代出這些Sequence"
   ]
  },
  {
   "cell_type": "code",
   "execution_count": 15,
   "metadata": {},
   "outputs": [
    {
     "name": "stdout",
     "output_type": "stream",
     "text": [
      "1-------\n",
      "dog\n",
      "cat\n",
      "bat\n",
      "cat\n",
      "bat\n",
      "2-------\n",
      "bat\n",
      "bat\n",
      "cat\n",
      "cat\n",
      "dog\n",
      "3-------\n",
      "bat\n",
      "cat\n",
      "dog\n",
      "4-------\n",
      "bat\n",
      "cat\n",
      "bat\n",
      "cat\n",
      "dog\n",
      "5-------\n",
      "bat\n",
      "dog\n"
     ]
    }
   ],
   "source": [
    "s=['dog','cat','bat','cat','bat']\n",
    "t=['cat']\n",
    "print(\"1-------\")\n",
    "for item in s: # 列出所有s裡的item\n",
    "    print(item)\n",
    "print(\"2-------\")\n",
    "for item in sorted(s): # 排序s的item再輸出\n",
    "    print(item)\n",
    "print(\"3-------\")\n",
    "for item in set(s): # 列出s裡不重複的item\n",
    "    print(item)\n",
    "print(\"4-------\")\n",
    "for item in reversed(s):# 排序s之後再reverse輸出\n",
    "    print(item)\n",
    "print(\"5-------\")\n",
    "for item in set(s).difference(t): # 列出s裡不包含t的item\n",
    "    print(item)"
   ]
  },
  {
   "cell_type": "markdown",
   "metadata": {},
   "source": [
    "另外，python提供zip()可以來配對2組以上的list"
   ]
  },
  {
   "cell_type": "code",
   "execution_count": 18,
   "metadata": {},
   "outputs": [
    {
     "data": {
      "text/plain": [
       "[('I', 'noun', 'dog'),\n",
       " ('turned', 'verb', 'cat'),\n",
       " ('off', 'prep', 'bat'),\n",
       " ('the', 'det', 'cat')]"
      ]
     },
     "execution_count": 18,
     "metadata": {},
     "output_type": "execute_result"
    }
   ],
   "source": [
    "words = ['I', 'turned', 'off', 'the', 'spectroroute']\n",
    "tags = ['noun', 'verb', 'prep', 'det', 'noun']\n",
    "ss=['dog','cat','bat','cat']\n",
    "list(zip(words, tags,ss))"
   ]
  },
  {
   "cell_type": "markdown",
   "metadata": {
    "collapsed": true
   },
   "source": [
    "在一些NLP tasks中，需要切割文件，分成許多個part。<BR>\n",
    "舉例來說，如果想要訓練一個系統，拿文集其中的90%資料來訓練，剩下的10%拿來測試，可以寫成這樣。"
   ]
  },
  {
   "cell_type": "code",
   "execution_count": 1,
   "metadata": {},
   "outputs": [
    {
     "name": "stdout",
     "output_type": "stream",
     "text": [
      "True\n",
      "9.0\n"
     ]
    }
   ],
   "source": [
    "import nltk\n",
    "text = nltk.corpus.nps_chat.words()\n",
    "cut = int(0.9 * len(text))\n",
    "training_data, test_data = text[:cut], text[cut:]\n",
    "print(text == training_data + test_data) # 可以檢查資料是否完整\n",
    "print(len(training_data) / len(test_data))"
   ]
  },
  {
   "cell_type": "markdown",
   "metadata": {},
   "source": [
    "## 4.3   Questions of Style"
   ]
  },
  {
   "cell_type": "markdown",
   "metadata": {},
   "source": [
    "這個章節會教你如何寫出一個簡潔的code，而不會太耗費CPU的register<BR>\n",
    "先看看以下code"
   ]
  },
  {
   "cell_type": "code",
   "execution_count": 3,
   "metadata": {},
   "outputs": [
    {
     "name": "stdout",
     "output_type": "stream",
     "text": [
      "4.401545438271973\n"
     ]
    }
   ],
   "source": [
    "import nltk\n",
    "tokens = nltk.corpus.brown.words(categories='news')\n",
    "count = 0\n",
    "total=0\n",
    "for token in tokens:\n",
    "    count+=1\n",
    "    total+=len(token)\n",
    "print(total/count)"
   ]
  },
  {
   "cell_type": "code",
   "execution_count": 5,
   "metadata": {},
   "outputs": [
    {
     "name": "stdout",
     "output_type": "stream",
     "text": [
      "4.401545438271973\n"
     ]
    }
   ],
   "source": [
    "import nltk\n",
    "tokens = nltk.corpus.brown.words(categories='news')\n",
    "total = sum(len(t) for t in tokens)\n",
    "print(total / len(tokens))"
   ]
  },
  {
   "cell_type": "markdown",
   "metadata": {},
   "source": [
    "上面兩個code的目的都是要算出某篇corpus的平均長度<BR>\n",
    "但可以很明瞭的看出第二個code比較簡潔，也沒有那麼多的變數宣告以及for loop"
   ]
  },
  {
   "cell_type": "markdown",
   "metadata": {},
   "source": [
    "## 4.4   Doing More with Functions"
   ]
  },
  {
   "cell_type": "markdown",
   "metadata": {},
   "source": [
    "### 將函式作為另一個函式的參數來傳遞"
   ]
  },
  {
   "cell_type": "code",
   "execution_count": 1,
   "metadata": {},
   "outputs": [
    {
     "data": {
      "text/plain": [
       "[4, 4, 2, 3, 5, 1, 3, 3, 6, 4, 4, 4, 2, 10, 1]"
      ]
     },
     "execution_count": 1,
     "metadata": {},
     "output_type": "execute_result"
    }
   ],
   "source": [
    "#定義一個叫做sent的list\n",
    "sent = ['Take', 'care', 'of', 'the', 'sense', ',', 'and', 'the', 'sounds', 'will', 'take', 'care', 'of', 'themselves', '.']\n",
    "\n",
    "def extract_property(prop):\n",
    "    return [prop(word) for word in sent]\n",
    "\n",
    "#將函式len作為參數傳遞\n",
    "extract_property(len)"
   ]
  },
  {
   "cell_type": "markdown",
   "metadata": {},
   "source": [
    "### 又或者自定義一個函式來當作函式的參數"
   ]
  },
  {
   "cell_type": "code",
   "execution_count": 30,
   "metadata": {},
   "outputs": [
    {
     "data": {
      "text/plain": [
       "['e', 'e', 'f', 'e', 'e', ',', 'd', 'e', 's', 'l', 'e', 'e', 'f', 's', '.']"
      ]
     },
     "execution_count": 30,
     "metadata": {},
     "output_type": "execute_result"
    }
   ],
   "source": [
    "#將每個詞的最後一個字元輸出\n",
    "def last_letter(word):\n",
    "    return word[-1]\n",
    "\n",
    "extract_property(last_letter)"
   ]
  },
  {
   "cell_type": "markdown",
   "metadata": {},
   "source": [
    "### 另一種將函式作為另一個函式的參數來傳遞的方式，叫做lambda expressions\n",
    "### 以之前的例子來說，若是沒有很多地方需要用到last_letter這個函式，我們可以直接以lambda expressions來表示"
   ]
  },
  {
   "cell_type": "code",
   "execution_count": 31,
   "metadata": {},
   "outputs": [
    {
     "data": {
      "text/plain": [
       "['e', 'e', 'f', 'e', 'e', ',', 'd', 'e', 's', 'l', 'e', 'e', 'f', 's', '.']"
      ]
     },
     "execution_count": 31,
     "metadata": {},
     "output_type": "execute_result"
    }
   ],
   "source": [
    "extract_property(lambda par:par[-1])"
   ]
  },
  {
   "cell_type": "markdown",
   "metadata": {},
   "source": [
    "## Accumulative Functions"
   ]
  },
  {
   "cell_type": "markdown",
   "metadata": {},
   "source": [
    "### Accumulative Functions為累計函式，在初始化空間之後，透過重複呼叫來累計資料，最後再回傳結果，如函式search1所示： "
   ]
  },
  {
   "cell_type": "code",
   "execution_count": null,
   "metadata": {
    "collapsed": true
   },
   "outputs": [],
   "source": [
    "def search1(substring, words):\n",
    "    result = []\n",
    "    for word in words:\n",
    "        if substring in word:\n",
    "            result.append(word)\n",
    "    return result\n",
    "\n",
    "for item in search1('zz', nltk.corpus.brown.words()):\n",
    "    print(item, end=\" \")"
   ]
  },
  {
   "cell_type": "markdown",
   "metadata": {},
   "source": [
    "### 而函式 search2 是個產生器，第一次呼叫此函式時會跑到yield的部分然後暫停，並進行處理。\n",
    "### 當此函式為下一次的input準備好後，會從上次暫停的地方繼續運行，跑到yield的部分的時候再次暫停。 \n",
    "### 這個方法更加有效率，且不需要為了儲存output而浪費空間"
   ]
  },
  {
   "cell_type": "code",
   "execution_count": null,
   "metadata": {
    "collapsed": true
   },
   "outputs": [],
   "source": [
    "def search2(substring, words):\n",
    "    for word in words:\n",
    "        if substring in word:\n",
    "            yield word\n",
    "            \n",
    "for item in search2('zz', nltk.corpus.brown.words()):\n",
    "    print(item, end=\" \")"
   ]
  },
  {
   "cell_type": "markdown",
   "metadata": {},
   "source": [
    "### 下面是更複雜的產生器例子，輸出詞的排列組合，以list的型態來呈現"
   ]
  },
  {
   "cell_type": "code",
   "execution_count": 33,
   "metadata": {},
   "outputs": [
    {
     "data": {
      "text/plain": [
       "[['police', 'fish', 'nugget'],\n",
       " ['fish', 'police', 'nugget'],\n",
       " ['fish', 'nugget', 'police'],\n",
       " ['police', 'nugget', 'fish'],\n",
       " ['nugget', 'police', 'fish'],\n",
       " ['nugget', 'fish', 'police']]"
      ]
     },
     "execution_count": 33,
     "metadata": {},
     "output_type": "execute_result"
    }
   ],
   "source": [
    "def permutations(seq):\n",
    "    if len(seq) <= 1:\n",
    "        yield seq\n",
    "    else:\n",
    "        for perm in permutations(seq[1:]):\n",
    "            for i in range(len(perm)+1):\n",
    "                yield perm[:i] + seq[0:1] + perm[i:]\n",
    "                \n",
    "list(permutations(['police', 'fish', 'nugget']))"
   ]
  },
  {
   "cell_type": "markdown",
   "metadata": {},
   "source": [
    "## Named Arguments"
   ]
  },
  {
   "cell_type": "markdown",
   "metadata": {},
   "source": [
    "### 參數太多的時候很容易對呼叫的順序混淆，我們可以以命名的方式來指定參數，並且提供初始值"
   ]
  },
  {
   "cell_type": "code",
   "execution_count": 58,
   "metadata": {},
   "outputs": [
    {
     "data": {
      "text/plain": [
       "'<empty><empty><empty>'"
      ]
     },
     "execution_count": 58,
     "metadata": {},
     "output_type": "execute_result"
    }
   ],
   "source": [
    "def repeat(msg='<empty>', num=1):\n",
    "    return msg * num\n",
    "\n",
    "repeat(num=3)"
   ]
  },
  {
   "cell_type": "markdown",
   "metadata": {},
   "source": [
    "### 這些成為關鍵字參數，當我們將兩種不同類型的參數混在一起，必須確保沒有命名的參數在已命名的參數的前面，因為沒有命名的參數是以位置來定義的\n",
    "### 我們可以定義擁有任意數量參數的函式，並且使用參數列表*args和字典參數列表**kwargs來使用"
   ]
  },
  {
   "cell_type": "code",
   "execution_count": null,
   "metadata": {
    "collapsed": true
   },
   "outputs": [],
   "source": [
    "def generic(*args, **kwargs):\n",
    "    print(args)\n",
    "    print(kwargs)"
   ]
  },
  {
   "cell_type": "code",
   "execution_count": 52,
   "metadata": {},
   "outputs": [
    {
     "name": "stdout",
     "output_type": "stream",
     "text": [
      "('a', 'b', 'c')\n",
      "{'name': 'John', 'age': '23'}\n"
     ]
    }
   ],
   "source": [
    "generic('a','b','c', name ='John', age = '23')"
   ]
  },
  {
   "cell_type": "markdown",
   "metadata": {},
   "source": [
    "## 4.5   Program Development"
   ]
  },
  {
   "cell_type": "markdown",
   "metadata": {},
   "source": [
    "### Structure of a Python Module"
   ]
  },
  {
   "cell_type": "markdown",
   "metadata": {},
   "source": [
    "### 程式的模組是為了將邏輯上相關的定義和函式合在一起以方便重用和抽象化，程式的模組就是獨立的.py文件\n",
    "### 如果要開始學習寫模組，可以參考一些範例，像是NLTK模組\n",
    "### 输入help()可以輸出有關模組的訊息"
   ]
  },
  {
   "cell_type": "code",
   "execution_count": 4,
   "metadata": {},
   "outputs": [
    {
     "name": "stdout",
     "output_type": "stream",
     "text": [
      "Help on module nltk.metrics.distance in nltk.metrics:\n",
      "\n",
      "NAME\n",
      "    nltk.metrics.distance - Distance Metrics.\n",
      "\n",
      "DESCRIPTION\n",
      "    Compute the distance between two items (usually strings).\n",
      "    As metrics, they must satisfy the following three requirements:\n",
      "    \n",
      "    1. d(a, a) = 0\n",
      "    2. d(a, b) >= 0\n",
      "    3. d(a, c) <= d(a, b) + d(b, c)\n",
      "\n",
      "FUNCTIONS\n",
      "    binary_distance(label1, label2)\n",
      "        Simple equality test.\n",
      "        \n",
      "        0.0 if the labels are identical, 1.0 if they are different.\n",
      "        \n",
      "        >>> from nltk.metrics import binary_distance\n",
      "        >>> binary_distance(1,1)\n",
      "        0.0\n",
      "        \n",
      "        >>> binary_distance(1,3)\n",
      "        1.0\n",
      "    \n",
      "    custom_distance(file)\n",
      "    \n",
      "    demo()\n",
      "    \n",
      "    edit_distance(s1, s2, substitution_cost=1, transpositions=False)\n",
      "        Calculate the Levenshtein edit-distance between two strings.\n",
      "        The edit distance is the number of characters that need to be\n",
      "        substituted, inserted, or deleted, to transform s1 into s2.  For\n",
      "        example, transforming \"rain\" to \"shine\" requires three steps,\n",
      "        consisting of two substitutions and one insertion:\n",
      "        \"rain\" -> \"sain\" -> \"shin\" -> \"shine\".  These operations could have\n",
      "        been done in other orders, but at least three steps are needed.\n",
      "        \n",
      "        Allows specifying the cost of substitution edits (e.g., \"a\" -> \"b\"),\n",
      "        because sometimes it makes sense to assign greater penalties to substitutions.\n",
      "        \n",
      "        This also optionally allows transposition edits (e.g., \"ab\" -> \"ba\"),\n",
      "        though this is disabled by default.\n",
      "        \n",
      "        :param s1, s2: The strings to be analysed\n",
      "        :param transpositions: Whether to allow transposition edits\n",
      "        :type s1: str\n",
      "        :type s2: str\n",
      "        :type substitution_cost: int\n",
      "        :type transpositions: bool\n",
      "        :rtype int\n",
      "    \n",
      "    fractional_presence(label)\n",
      "    \n",
      "    interval_distance(label1, label2)\n",
      "        Krippendorff's interval distance metric\n",
      "        \n",
      "        >>> from nltk.metrics import interval_distance\n",
      "        >>> interval_distance(1,10)\n",
      "        81\n",
      "        \n",
      "        Krippendorff 1980, Content Analysis: An Introduction to its Methodology\n",
      "    \n",
      "    jaccard_distance(label1, label2)\n",
      "        Distance metric comparing set-similarity.\n",
      "    \n",
      "    masi_distance(label1, label2)\n",
      "        Distance metric that takes into account partial agreement when multiple\n",
      "        labels are assigned.\n",
      "        \n",
      "        >>> from nltk.metrics import masi_distance\n",
      "        >>> masi_distance(set([1, 2]), set([1, 2, 3, 4]))\n",
      "        0.335\n",
      "        \n",
      "        Passonneau 2006, Measuring Agreement on Set-Valued Items (MASI)\n",
      "        for Semantic and Pragmatic Annotation.\n",
      "    \n",
      "    presence(label)\n",
      "        Higher-order function to test presence of a given label\n",
      "\n",
      "DATA\n",
      "    division = _Feature((2, 2, 0, 'alpha', 2), (3, 0, 0, 'alpha', 0), 8192...\n",
      "    print_function = _Feature((2, 6, 0, 'alpha', 2), (3, 0, 0, 'alpha', 0)...\n",
      "\n",
      "FILE\n",
      "    c:\\users\\siangyun\\appdata\\local\\programs\\python\\python36-32\\lib\\site-packages\\nltk\\metrics\\distance.py\n",
      "\n",
      "\n"
     ]
    }
   ],
   "source": [
    "import nltk\n",
    "from nltk.metrics import distance\n",
    "\n",
    "help(distance)"
   ]
  },
  {
   "cell_type": "markdown",
   "metadata": {},
   "source": [
    "## Multi-Module Programs"
   ]
  },
  {
   "cell_type": "markdown",
   "metadata": {},
   "source": [
    "### 有些程式同時進行多項任務，像是從文集載入data，處理data和將結果視覺化\n",
    "### 我們可以使用已經存在的模組\n",
    "### 將工作分成好幾個模組可以讓模組簡單和方便維護"
   ]
  },
  {
   "cell_type": "markdown",
   "metadata": {},
   "source": [
    "![Imgur](https://i.imgur.com/oewhf8E.png)"
   ]
  },
  {
   "cell_type": "markdown",
   "metadata": {},
   "source": [
    "## 4.7   A Sample of Python Libraries"
   ]
  },
  {
   "cell_type": "markdown",
   "metadata": {},
   "source": [
    "### Python有上百個第三方library，有些特定的套件可以延伸python的功能"
   ]
  },
  {
   "cell_type": "markdown",
   "metadata": {},
   "source": [
    "## Matplotlib\n",
    "### Matplotlib支援複雜且使用Matlab界面的繪圖函式"
   ]
  },
  {
   "cell_type": "code",
   "execution_count": 7,
   "metadata": {},
   "outputs": [
    {
     "data": {
      "image/png": "[encoded data removed]",
      "text/plain": [
       "<matplotlib.figure.Figure at 0x30cf950>"
      ]
     },
     "metadata": {},
     "output_type": "display_data"
    }
   ],
   "source": [
    "from numpy import arange\n",
    "from matplotlib import pyplot\n",
    "\n",
    "colors = 'rgbcmyk' # red, green, blue, cyan, magenta, yellow, black\n",
    "\n",
    "def bar_chart(categories, words, counts):\n",
    "    \"Plot a bar chart showing counts for each word by category\"\n",
    "    ind = arange(len(words))\n",
    "    width = 1 / (len(categories) + 1)\n",
    "    bar_groups = []\n",
    "    for c in range(len(categories)):\n",
    "        bars = pyplot.bar(ind+c*width, counts[categories[c]], width,\n",
    "                         color=colors[c % len(colors)])\n",
    "        bar_groups.append(bars)\n",
    "    pyplot.xticks(ind+width, words)\n",
    "    pyplot.legend([b[0] for b in bar_groups], categories, loc='upper left')\n",
    "    pyplot.ylabel('Frequency')\n",
    "    pyplot.title('Frequency of Six Modal Verbs by Genre')\n",
    "    pyplot.show()\n",
    "    \n",
    "genres = ['news', 'religion', 'hobbies', 'government', 'adventure']\n",
    "modals = ['can', 'could', 'may', 'might', 'must', 'will']\n",
    "cfdist = nltk.ConditionalFreqDist(\n",
    "              (genre, word)\n",
    "              for genre in genres\n",
    "              for word in nltk.corpus.brown.words(categories=genre)\n",
    "              if word in modals)\n",
    "counts = {}\n",
    "for genre in genres:\n",
    "    counts[genre] = [cfdist[genre][word] for word in modals]\n",
    "bar_chart(genres, modals, counts)"
   ]
  },
  {
   "cell_type": "markdown",
   "metadata": {},
   "source": [
    "## NetworkX"
   ]
  },
  {
   "cell_type": "markdown",
   "metadata": {},
   "source": [
    "### NetworkX套件是用來定義和操控包含邊和點的結構，稱為圖形(graphs)"
   ]
  },
  {
   "cell_type": "code",
   "execution_count": 18,
   "metadata": {},
   "outputs": [
    {
     "data": {
      "image/png": "[encoded data removed]",
      "text/plain": [
       "<matplotlib.figure.Figure at 0x4d478f0>"
      ]
     },
     "metadata": {},
     "output_type": "display_data"
    }
   ],
   "source": [
    "import networkx as nx\n",
    "import matplotlib\n",
    "from nltk.corpus import wordnet as wn\n",
    "\n",
    "def traverse(graph, start, node):\n",
    "    graph.depth[node.name] = node.shortest_path_distance(start)\n",
    "    for child in node.hyponyms():\n",
    "        graph.add_edge(node.name, child.name)\n",
    "        traverse(graph, start, child) \n",
    "        \n",
    "def hyponym_graph(start):\n",
    "    G = nx.Graph()\n",
    "    G.depth = {}\n",
    "    traverse(G, start, start)\n",
    "    return G\n",
    "def graph_draw(graph):\n",
    "    nx.draw(graph,\n",
    "         node_size = [16 * graph.degree(n) for n in graph],\n",
    "         node_color = [graph.depth[n] for n in graph],\n",
    "         with_labels = False)\n",
    "    matplotlib.pyplot.show()\n",
    "    \n",
    "dog = wn.synset('dog.n.01')\n",
    "graph = hyponym_graph(dog)\n",
    "graph_draw(graph)\n"
   ]
  },
  {
   "cell_type": "markdown",
   "metadata": {},
   "source": [
    "### CSV"
   ]
  },
  {
   "cell_type": "markdown",
   "metadata": {},
   "source": [
    "### 語言分析的工作通常將詞的項目製作成表格，我們可以使用CSV來存取這類格式的文件"
   ]
  },
  {
   "cell_type": "code",
   "execution_count": 29,
   "metadata": {
    "collapsed": true
   },
   "outputs": [],
   "source": [
    "import csv\n",
    "input_file = open(\"lexicon.csv\", \"rb\")\n",
    "for row in csv.reader(input_file):\n",
    "    print(row)"
   ]
  },
  {
   "cell_type": "markdown",
   "metadata": {},
   "source": [
    "### NumPy"
   ]
  },
  {
   "cell_type": "markdown",
   "metadata": {},
   "source": [
    "### NumPy套件支援數值處理，可以運用多維陣列的物件，方便的存取和初始化"
   ]
  },
  {
   "cell_type": "code",
   "execution_count": 32,
   "metadata": {},
   "outputs": [
    {
     "data": {
      "text/plain": [
       "4"
      ]
     },
     "execution_count": 32,
     "metadata": {},
     "output_type": "execute_result"
    }
   ],
   "source": [
    "from numpy import array\n",
    "cube = array([ [[0,0,0], [1,1,1], [2,2,2]],\n",
    "                [[3,3,3], [4,4,4], [5,5,5]],\n",
    "                [[6,6,6], [7,7,7], [8,8,8]] ])\n",
    "\n",
    "cube[1,1,1]"
   ]
  },
  {
   "cell_type": "code",
   "execution_count": 33,
   "metadata": {},
   "outputs": [
    {
     "data": {
      "text/plain": [
       "array([[6, 7, 8],\n",
       "       [6, 7, 8],\n",
       "       [6, 7, 8]])"
      ]
     },
     "execution_count": 33,
     "metadata": {},
     "output_type": "execute_result"
    }
   ],
   "source": [
    "cube[2].transpose()"
   ]
  },
  {
   "cell_type": "code",
   "execution_count": 36,
   "metadata": {},
   "outputs": [
    {
     "data": {
      "text/plain": [
       "array([[7, 7, 7],\n",
       "       [8, 8, 8]])"
      ]
     },
     "execution_count": 36,
     "metadata": {},
     "output_type": "execute_result"
    }
   ],
   "source": [
    "cube[2,1:]"
   ]
  }
 ],
 "metadata": {
  "kernelspec": {
   "display_name": "Python 3",
   "language": "python",
   "name": "python3"
  },
  "language_info": {
   "codemirror_mode": {
    "name": "ipython",
    "version": 3
   },
   "file_extension": ".py",
   "mimetype": "text/x-python",
   "name": "python",
   "nbconvert_exporter": "python",
   "pygments_lexer": "ipython3",
   "version": "3.6.1"
  }
 },
 "nbformat": 4,
 "nbformat_minor": 2
}
