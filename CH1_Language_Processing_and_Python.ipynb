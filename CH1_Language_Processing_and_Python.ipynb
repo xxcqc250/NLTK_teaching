{
 "cells": [
  {
   "cell_type": "markdown",
   "metadata": {},
   "source": [
    "# 1. Language Processing and Python"
   ]
  },
  {
   "cell_type": "markdown",
   "metadata": {},
   "source": [
    "### ----------------------------------------------------------"
   ]
  },
  {
   "cell_type": "markdown",
   "metadata": {},
   "source": [
    "## part1: getting started with NLTK"
   ]
  },
  {
   "cell_type": "markdown",
   "metadata": {},
   "source": [
    "先下載 NLTK Book 套件，執行底下指令"
   ]
  },
  {
   "cell_type": "code",
   "execution_count": null,
   "metadata": {},
   "outputs": [],
   "source": [
    "import nltk\n",
    "nltk.download()"
   ]
  },
  {
   "cell_type": "markdown",
   "metadata": {},
   "source": [
    "會出現一個介面，要下載identifier那欄的'book' \n",
    "\n",
    "!https://imgur.com/a/m8cTL"
   ]
  },
  {
   "cell_type": "code",
   "execution_count": null,
   "metadata": {
    "collapsed": true
   },
   "outputs": [],
   "source": [
    "# 他會列出所有的書\n",
    "from nltk.book import *"
   ]
  },
  {
   "cell_type": "raw",
   "metadata": {},
   "source": [
    "*** Introductory Examples for the NLTK Book ***\n",
    "Loading text1, ..., text9 and sent1, ..., sent9\n",
    "Type the name of the text or sentence to view it.\n",
    "Type: 'texts()' or 'sents()' to list the materials.\n",
    "text1: Moby Dick by Herman Melville 1851\n",
    "text2: Sense and Sensibility by Jane Austen 1811\n",
    "text3: The Book of Genesis\n",
    "text4: Inaugural Address Corpus\n",
    "text5: Chat Corpus\n",
    "text6: Monty Python and the Holy Grail\n",
    "text7: Wall Street Journal\n",
    "text8: Personals Corpus\n",
    "text9: The Man Who Was Thursday by G . K . Chesterton 1908"
   ]
  },
  {
   "cell_type": "code",
   "execution_count": null,
   "metadata": {
    "collapsed": true
   },
   "outputs": [],
   "source": [
    "# 輸出書名\n",
    "text1"
   ]
  },
  {
   "cell_type": "raw",
   "metadata": {},
   "source": [
    "<Text: Moby Dick by Herman Melville 1851>"
   ]
  },
  {
   "cell_type": "markdown",
   "metadata": {},
   "source": [
    "## 搜尋字串\n",
    "會列出所找的字串在那些句子中"
   ]
  },
  {
   "cell_type": "code",
   "execution_count": null,
   "metadata": {
    "collapsed": true
   },
   "outputs": [],
   "source": [
    "text1.concordance(\"heathenish\")"
   ]
  },
  {
   "cell_type": "raw",
   "metadata": {},
   "source": [
    "Displaying 6 of 6 matches:\n",
    "is entry was hung all over with a heathenish array of monstrous clubs and spea\n",
    "anwhile humming to himself in his heathenish way . But being now interrupted ,\n",
    "mpty - handedness , they , in the heathenish sharked waters , and by the beach\n",
    "crew , were a far more barbaric , heathenish , and motley set than any of the\n",
    "it might include . There was some heathenish , coffin - coloured old lumber ab\n",
    " , intermeddling , monopolising , heathenish old scamp , to be one day making"
   ]
  },
  {
   "cell_type": "code",
   "execution_count": null,
   "metadata": {
    "collapsed": true
   },
   "outputs": [],
   "source": []
  }
 ],
 "metadata": {
  "kernelspec": {
   "display_name": "Python 3",
   "language": "python",
   "name": "python3"
  },
  "language_info": {
   "codemirror_mode": {
    "name": "ipython",
    "version": 3
   },
   "file_extension": ".py",
   "mimetype": "text/x-python",
   "name": "python",
   "nbconvert_exporter": "python",
   "pygments_lexer": "ipython3",
   "version": "3.6.1"
  }
 },
 "nbformat": 4,
 "nbformat_minor": 2
}
