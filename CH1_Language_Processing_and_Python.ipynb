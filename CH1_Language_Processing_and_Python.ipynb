{
 "cells": [
  {
   "cell_type": "markdown",
   "metadata": {},
   "source": [
    "# 1. Language Processing and Python"
   ]
  },
  {
   "cell_type": "markdown",
   "metadata": {},
   "source": [
    "### ----------------------------------------------------------"
   ]
  },
  {
   "cell_type": "markdown",
   "metadata": {},
   "source": [
    "## part 1: getting started with NLTK"
   ]
  },
  {
   "cell_type": "markdown",
   "metadata": {},
   "source": [
    "先下載 NLTK Book 套件，執行底下指令"
   ]
  },
  {
   "cell_type": "code",
   "execution_count": null,
   "metadata": {
    "collapsed": true
   },
   "outputs": [],
   "source": [
    "import nltk\n",
    "nltk.download()"
   ]
  },
  {
   "cell_type": "markdown",
   "metadata": {},
   "source": [
    "會出現一個介面，要下載identifier那欄的'book' \n",
    "\n",
    "<img src=\"https://i.imgur.com/YdTSN7b.jpg\" />"
   ]
  },
  {
   "cell_type": "code",
   "execution_count": 2,
   "metadata": {
    "scrolled": true
   },
   "outputs": [
    {
     "name": "stdout",
     "output_type": "stream",
     "text": [
      "*** Introductory Examples for the NLTK Book ***\n",
      "Loading text1, ..., text9 and sent1, ..., sent9\n",
      "Type the name of the text or sentence to view it.\n",
      "Type: 'texts()' or 'sents()' to list the materials.\n",
      "text1: Moby Dick by Herman Melville 1851\n",
      "text2: Sense and Sensibility by Jane Austen 1811\n",
      "text3: The Book of Genesis\n",
      "text4: Inaugural Address Corpus\n",
      "text5: Chat Corpus\n",
      "text6: Monty Python and the Holy Grail\n",
      "text7: Wall Street Journal\n",
      "text8: Personals Corpus\n",
      "text9: The Man Who Was Thursday by G . K . Chesterton 1908\n"
     ]
    }
   ],
   "source": [
    "# 他會列出所有的書\n",
    "from nltk.book import *"
   ]
  },
  {
   "cell_type": "code",
   "execution_count": 8,
   "metadata": {
    "scrolled": false
   },
   "outputs": [
    {
     "data": {
      "text/plain": [
       "<Text: Moby Dick by Herman Melville 1851>"
      ]
     },
     "execution_count": 8,
     "metadata": {},
     "output_type": "execute_result"
    }
   ],
   "source": [
    "# 現在輸入text1會輸出書名\n",
    "text1"
   ]
  },
  {
   "cell_type": "markdown",
   "metadata": {},
   "source": [
    "## 1.3 搜尋字串\n",
    "會列出所找的字串在那些句子中"
   ]
  },
  {
   "cell_type": "code",
   "execution_count": 10,
   "metadata": {},
   "outputs": [
    {
     "name": "stdout",
     "output_type": "stream",
     "text": [
      "Displaying 6 of 6 matches:\n",
      "is entry was hung all over with a heathenish array of monstrous clubs and spea\n",
      "anwhile humming to himself in his heathenish way . But being now interrupted ,\n",
      "mpty - handedness , they , in the heathenish sharked waters , and by the beach\n",
      "crew , were a far more barbaric , heathenish , and motley set than any of the \n",
      "it might include . There was some heathenish , coffin - coloured old lumber ab\n",
      " , intermeddling , monopolising , heathenish old scamp , to be one day making \n"
     ]
    }
   ],
   "source": [
    "text1.concordance(\"heathenish\")"
   ]
  },
  {
   "cell_type": "markdown",
   "metadata": {
    "collapsed": true
   },
   "source": [
    "## 搜尋與字串意思相近的詞"
   ]
  },
  {
   "cell_type": "code",
   "execution_count": 4,
   "metadata": {},
   "outputs": [
    {
     "name": "stdout",
     "output_type": "stream",
     "text": [
      "all mildly you that arched valuable there might ponderous then crews\n",
      "air joy where interesting himself ball part plunged crazy\n"
     ]
    }
   ],
   "source": [
    "text1.similar(\"majestic\")"
   ]
  },
  {
   "cell_type": "markdown",
   "metadata": {},
   "source": [
    "## 搜尋與兩個關鍵字相近的詞"
   ]
  },
  {
   "cell_type": "code",
   "execution_count": 5,
   "metadata": {},
   "outputs": [
    {
     "name": "stdout",
     "output_type": "stream",
     "text": [
      "was_young was_well was_much ,_anxious know_well is_well it_much\n",
      "him_well are_good be_much been_much had_much ,_much the_great ,_,\n"
     ]
    }
   ],
   "source": [
    "text2.common_contexts([\"very\", \"too\"])"
   ]
  },
  {
   "cell_type": "markdown",
   "metadata": {},
   "source": [
    "## 繪圖來表示詞在文中出現的位置\n",
    "\n",
    "要繪圖之前需先安裝Matplotlib <br>\n",
    "打開命令提示字元，輸入以下指令即可安裝 <br>\n",
    "pip install -U pip setuptools <br>\n",
    "pip install matplotlib"
   ]
  },
  {
   "cell_type": "code",
   "execution_count": null,
   "metadata": {
    "collapsed": true
   },
   "outputs": [],
   "source": [
    "# 繪畫出括弧中的詞在文章text2中出現的位置\n",
    "text2.dispersion_plot([\"happy\", \"almost\", \"greatest\", \"statisfied\", \"expression\"])"
   ]
  },
  {
   "cell_type": "markdown",
   "metadata": {},
   "source": [
    "![Imgur](https://i.imgur.com/4zLupKw.png)"
   ]
  },
  {
   "cell_type": "markdown",
   "metadata": {},
   "source": [
    "## 1.4 計算字數"
   ]
  },
  {
   "cell_type": "code",
   "execution_count": 6,
   "metadata": {},
   "outputs": [
    {
     "data": {
      "text/plain": [
       "141576"
      ]
     },
     "execution_count": 6,
     "metadata": {},
     "output_type": "execute_result"
    }
   ],
   "source": [
    "len(text2)"
   ]
  },
  {
   "cell_type": "markdown",
   "metadata": {},
   "source": [
    "可以得知text2有141576個詞，或稱為token <br>\n",
    "但是有部分的token是重複的<br>\n",
    "\n"
   ]
  },
  {
   "cell_type": "markdown",
   "metadata": {},
   "source": [
    "## 使用set()就可以找出全部且不重複的token"
   ]
  },
  {
   "cell_type": "code",
   "execution_count": null,
   "metadata": {
    "scrolled": false
   },
   "outputs": [],
   "source": [
    "set(text2)"
   ]
  },
  {
   "cell_type": "markdown",
   "metadata": {},
   "source": [
    "{'earlier', 'insulting', 'imbibed', 'sometimes', 'breed', 'St', 'sellers', 'succour', 'Park', 'Steeles', 'condolence', 'uselessly', 'discontents', 'club', 'putrid', 'favour', 'THEN', 'naturally', 'infamously', 'caught', 'decide', 'Folly', 'excused', 'accuse', 'each', 'fear', 'spotted', 'playfulness', 'window', 'application', 'likeness', 'Bartlett', 'indisputable', 'furnished', 'oftenest', 'clue', 'niece', 'taverns', 'venturing', 'unlucky', 'attentive', 'acceptably', 'journey', 'puzzle', 'FERRARS', 'dance', 'suppose', 'uncordial', 'trifled', 'behold', 'largest', 'mystery', 'oppression', 'honour', 'ordained', 'motive', 'justice', 'mindful', 'harm', 'mischievous', 'disclaiming', 'romance', 'six', 'saucy', 'surfaces', 'gentlemen', 'carries', 'traded', 'employed', 'BOTH', 'occasion', 'handkerchief', 'finally', 'dared', 'practicable', 'papers', 'Short', 'studied', 'screened', 'treat', 'confinement', 'clearer', 'excepting', 'heavily', 'January', 'barouche', 'circumstance', 'mother', 'heightening', 'avoided', 'Aye', 'Frosts', 'intelligent', 'shew', 'purpose', 'unprincipled', 'attempt', 'preceding', 'please', 'surrounding', 'strikingly', 'Our', 'deprived', 'position', 'writer'.......}"
   ]
  },
  {
   "cell_type": "markdown",
   "metadata": {},
   "source": [
    "## 排序所有相異的token"
   ]
  },
  {
   "cell_type": "code",
   "execution_count": null,
   "metadata": {
    "scrolled": true
   },
   "outputs": [],
   "source": [
    "sorted(set(text3))"
   ]
  },
  {
   "cell_type": "markdown",
   "metadata": {},
   "source": [
    "['!', \"'\", '(', ')', ',', ',)', '.', '.)', ':', ';', ';)', '?', '?)', 'A', 'Abel', 'Abelmizraim', 'Abidah', 'Abide', 'Abimael',<br> 'Abimelech', 'Abr', 'Abrah', 'Abraham', 'Abram', 'Accad', 'Achbor', 'Adah', 'Adam', 'Adbeel', 'Admah', 'Adullamite',<br> 'After', 'Aholibamah', 'Ahuzzath', 'Ajah', 'Akan', 'All', 'Allonbachuth',....]"
   ]
  },
  {
   "cell_type": "markdown",
   "metadata": {},
   "source": [
    "## 計算不重複的token"
   ]
  },
  {
   "cell_type": "code",
   "execution_count": 8,
   "metadata": {},
   "outputs": [
    {
     "data": {
      "text/plain": [
       "6833"
      ]
     },
     "execution_count": 8,
     "metadata": {},
     "output_type": "execute_result"
    }
   ],
   "source": [
    "len(set(text2))"
   ]
  },
  {
   "cell_type": "markdown",
   "metadata": {},
   "source": [
    "## 使用公式找出詞彙豐富性"
   ]
  },
  {
   "cell_type": "code",
   "execution_count": 9,
   "metadata": {},
   "outputs": [
    {
     "data": {
      "text/plain": [
       "0.04826383002768831"
      ]
     },
     "execution_count": 9,
     "metadata": {},
     "output_type": "execute_result"
    }
   ],
   "source": [
    "len(set(text2)) / len(text2)"
   ]
  },
  {
   "cell_type": "markdown",
   "metadata": {},
   "source": [
    "## part 2: A Closer Look at Python: Texts as Lists of Words"
   ]
  },
  {
   "cell_type": "markdown",
   "metadata": {},
   "source": [
    "## Indexing Lists"
   ]
  },
  {
   "cell_type": "code",
   "execution_count": null,
   "metadata": {},
   "outputs": [],
   "source": []
  },
  {
   "cell_type": "code",
   "execution_count": null,
   "metadata": {
    "collapsed": true
   },
   "outputs": [],
   "source": []
  }
 ],
 "metadata": {
  "kernelspec": {
   "display_name": "Python 3",
   "language": "python",
   "name": "python3"
  },
  "language_info": {
   "codemirror_mode": {
    "name": "ipython",
    "version": 3
   },
   "file_extension": ".py",
   "mimetype": "text/x-python",
   "name": "python",
   "nbconvert_exporter": "python",
   "pygments_lexer": "ipython3",
   "version": "3.6.1"
  }
 },
 "nbformat": 4,
 "nbformat_minor": 2
}
