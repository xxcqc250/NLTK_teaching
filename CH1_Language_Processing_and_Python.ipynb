{
 "cells": [
  {
   "cell_type": "markdown",
   "metadata": {},
   "source": [
    "# 1. Language Processing and Python"
   ]
  },
  {
   "cell_type": "markdown",
   "metadata": {},
   "source": [
    "### ----------------------------------------------------------"
   ]
  },
  {
   "cell_type": "markdown",
   "metadata": {},
   "source": [
    "## part1: getting started with NLTK"
   ]
  },
  {
   "cell_type": "markdown",
   "metadata": {},
   "source": [
    "先下載 NLTK Book 套件，執行底下指令"
   ]
  },
  {
   "cell_type": "code",
   "execution_count": null,
   "metadata": {
    "collapsed": true
   },
   "outputs": [],
   "source": [
    "import nltk\n",
    "nltk.download()"
   ]
  },
  {
   "cell_type": "markdown",
   "metadata": {},
   "source": [
    "會出現一個介面，要下載identifier那欄的'book' \n",
    "\n",
    "<img src=\"https://i.imgur.com/YdTSN7b.jpg\" />"
   ]
  },
  {
   "cell_type": "code",
   "execution_count": 11,
   "metadata": {
    "collapsed": true
   },
   "outputs": [],
   "source": [
    "# 他會列出所有的書\n",
    "from nltk.book import *"
   ]
  },
  {
   "cell_type": "markdown",
   "metadata": {},
   "source": [
    "*** Introductory Examples for the NLTK Book ***<br>\n",
    "Loading text1, ..., text9 and sent1, ..., sent9<br>\n",
    "Type the name of the text or sentence to view it.<br>\n",
    "Type: 'texts()' or 'sents()' to list the materials.<br>\n",
    "text1: Moby Dick by Herman Melville 1851<br>\n",
    "text2: Sense and Sensibility by Jane Austen 1811<br>\n",
    "text3: The Book of Genesis<br>\n",
    "text4: Inaugural Address Corpus<br>\n",
    "text5: Chat Corpus<br>\n",
    "text6: Monty Python and the Holy Grail<br>\n",
    "text7: Wall Street Journal<br>\n",
    "text8: Personals Corpus<br>\n",
    "text9: The Man Who Was Thursday by G . K . Chesterton 1908"
   ]
  },
  {
   "cell_type": "code",
   "execution_count": 8,
   "metadata": {
    "scrolled": false
   },
   "outputs": [
    {
     "data": {
      "text/plain": [
       "<Text: Moby Dick by Herman Melville 1851>"
      ]
     },
     "execution_count": 8,
     "metadata": {},
     "output_type": "execute_result"
    }
   ],
   "source": [
    "# 輸出書名\n",
    "text1"
   ]
  },
  {
   "cell_type": "markdown",
   "metadata": {},
   "source": [
    "## 1.3 搜尋字串\n",
    "會列出所找的字串在那些句子中"
   ]
  },
  {
   "cell_type": "code",
   "execution_count": 10,
   "metadata": {},
   "outputs": [
    {
     "name": "stdout",
     "output_type": "stream",
     "text": [
      "Displaying 6 of 6 matches:\n",
      "is entry was hung all over with a heathenish array of monstrous clubs and spea\n",
      "anwhile humming to himself in his heathenish way . But being now interrupted ,\n",
      "mpty - handedness , they , in the heathenish sharked waters , and by the beach\n",
      "crew , were a far more barbaric , heathenish , and motley set than any of the \n",
      "it might include . There was some heathenish , coffin - coloured old lumber ab\n",
      " , intermeddling , monopolising , heathenish old scamp , to be one day making \n"
     ]
    }
   ],
   "source": [
    "text1.concordance(\"heathenish\")"
   ]
  },
  {
   "cell_type": "markdown",
   "metadata": {
    "collapsed": true
   },
   "source": [
    "## 搜尋與字串意思相近的詞"
   ]
  },
  {
   "cell_type": "code",
   "execution_count": null,
   "metadata": {},
   "outputs": [],
   "source": [
    "text1.similar(\"majestic\")"
   ]
  },
  {
   "cell_type": "markdown",
   "metadata": {},
   "source": [
    "all mildly you that arched valuable there might ponderous then crews <br>\n",
    "air joy where interesting himself ball part plunged crazy"
   ]
  },
  {
   "cell_type": "markdown",
   "metadata": {},
   "source": [
    "## 搜尋與兩個關機字相近的詞"
   ]
  },
  {
   "cell_type": "code",
   "execution_count": null,
   "metadata": {
    "collapsed": true
   },
   "outputs": [],
   "source": [
    "text2.common_contexts([\"very\", \"too\"])"
   ]
  },
  {
   "cell_type": "markdown",
   "metadata": {},
   "source": [
    "was_young was_well was_much ,_anxious know_well is_well it_much <br>\n",
    "him_well are_good be_much been_much had_much ,_much the_great ,_,"
   ]
  },
  {
   "cell_type": "markdown",
   "metadata": {},
   "source": [
    "## 繪圖來表示詞在文中出現的位置\n",
    "\n",
    "要繪圖之前需先安裝Matplotlib <br>\n",
    "打開命令提示字元，輸入以下指令即可安裝 <br>\n",
    "python -m pip install -U pip setuptools <br>\n",
    "python -m pip install matplotlib"
   ]
  },
  {
   "cell_type": "code",
   "execution_count": null,
   "metadata": {
    "collapsed": true
   },
   "outputs": [],
   "source": [
    "# 繪畫出括弧中的詞在文章text2中出現的位置\n",
    "text2.dispersion_plot([\"happy\", \"almost\", \"greatest\", \"statisfied\", \"expression\"])"
   ]
  },
  {
   "cell_type": "markdown",
   "metadata": {},
   "source": [
    "![Imgur](https://i.imgur.com/4zLupKw.png)"
   ]
  },
  {
   "cell_type": "markdown",
   "metadata": {},
   "source": [
    "## 1.4 計算字數"
   ]
  },
  {
   "cell_type": "code",
   "execution_count": null,
   "metadata": {
    "collapsed": true
   },
   "outputs": [],
   "source": [
    "len(text2)"
   ]
  },
  {
   "cell_type": "markdown",
   "metadata": {},
   "source": [
    "141576"
   ]
  },
  {
   "cell_type": "markdown",
   "metadata": {},
   "source": [
    "可以得知text2有141576個詞，或稱為token <br>\n",
    "但是有部分的token是重複的<br>\n",
    "<br>\n",
    "## 使用set()就可以找出全部且不重複的token"
   ]
  },
  {
   "cell_type": "code",
   "execution_count": null,
   "metadata": {
    "collapsed": true
   },
   "outputs": [],
   "source": [
    "set(text2)"
   ]
  },
  {
   "cell_type": "markdown",
   "metadata": {},
   "source": [
    "{'earlier', 'insulting', 'imbibed', 'sometimes', 'breed', 'St', 'sellers', 'succour', 'Park', 'Steeles', 'condolence', 'uselessly', 'discontents', 'club', 'putrid', 'favour', 'THEN', 'naturally', 'infamously', 'caught', 'decide', 'Folly', 'excused', 'accuse', 'each', 'fear', 'spotted', 'playfulness', 'window', 'application', 'likeness', 'Bartlett', 'indisputable', 'furnished', 'oftenest', 'clue', 'niece', 'taverns', 'venturing', 'unlucky', 'attentive', 'acceptably', 'journey', 'puzzle', 'FERRARS', 'dance', 'suppose', 'uncordial', 'trifled', 'behold', 'largest', 'mystery', 'oppression', 'honour', 'ordained', 'motive', 'justice', 'mindful', 'harm', 'mischievous', 'disclaiming', 'romance', 'six', 'saucy', 'surfaces', 'gentlemen', 'carries', 'traded', 'employed', 'BOTH', 'occasion', 'handkerchief', 'finally', 'dared', 'practicable', 'papers', 'Short', 'studied', 'screened', 'treat', 'confinement', 'clearer', 'excepting', 'heavily', 'January', 'barouche', 'circumstance', 'mother', 'heightening', 'avoided', 'Aye', 'Frosts', 'intelligent', 'shew', 'purpose', 'unprincipled', 'attempt', 'preceding', 'please', 'surrounding', 'strikingly', 'Our', 'deprived', 'position', 'writer'.......}"
   ]
  },
  {
   "cell_type": "markdown",
   "metadata": {},
   "source": [
    "## 計算不重複的token"
   ]
  },
  {
   "cell_type": "code",
   "execution_count": null,
   "metadata": {
    "collapsed": true
   },
   "outputs": [],
   "source": [
    "len(set(text2))"
   ]
  },
  {
   "cell_type": "markdown",
   "metadata": {},
   "source": [
    "6833"
   ]
  },
  {
   "cell_type": "markdown",
   "metadata": {},
   "source": [
    "## 使用公式找出詞彙豐富性"
   ]
  },
  {
   "cell_type": "code",
   "execution_count": null,
   "metadata": {
    "collapsed": true
   },
   "outputs": [],
   "source": [
    "len(set(text2)) / len(text2)"
   ]
  },
  {
   "cell_type": "markdown",
   "metadata": {},
   "source": [
    "0.04826383002768831"
   ]
  },
  {
   "cell_type": "markdown",
   "metadata": {},
   "source": [
    "## 定義函式來執行程式"
   ]
  },
  {
   "cell_type": "code",
   "execution_count": null,
   "metadata": {
    "collapsed": true
   },
   "outputs": [],
   "source": []
  }
 ],
 "metadata": {
  "kernelspec": {
   "display_name": "Python 3",
   "language": "python",
   "name": "python3"
  },
  "language_info": {
   "codemirror_mode": {
    "name": "ipython",
    "version": 3
   },
   "file_extension": ".py",
   "mimetype": "text/x-python",
   "name": "python",
   "nbconvert_exporter": "python",
   "pygments_lexer": "ipython3",
   "version": "3.6.2"
  }
 },
 "nbformat": 4,
 "nbformat_minor": 2
}
